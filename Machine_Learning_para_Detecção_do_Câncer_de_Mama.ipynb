{
  "nbformat": 4,
  "nbformat_minor": 0,
  "metadata": {
    "colab": {
      "name": "Untitled0.ipynb",
      "provenance": [],
      "authorship_tag": "ABX9TyNueR/8YqzpW0iIaYjzyqwz",
      "include_colab_link": true
    },
    "kernelspec": {
      "name": "python3",
      "display_name": "Python 3"
    }
  },
  "cells": [
    {
      "cell_type": "markdown",
      "metadata": {
        "id": "view-in-github",
        "colab_type": "text"
      },
      "source": [
        "<a href=\"https://colab.research.google.com/github/luislauriano/Alura_QuarentenaDados/blob/master/Machine_Learning_para_Detec%C3%A7%C3%A3o_do_C%C3%A2ncer_de_Mama.ipynb\" target=\"_parent\"><img src=\"https://colab.research.google.com/assets/colab-badge.svg\" alt=\"Open In Colab\"/></a>"
      ]
    },
    {
      "cell_type": "markdown",
      "metadata": {
        "id": "AN1tStC04FvZ",
        "colab_type": "text"
      },
      "source": [
        "# **Machine Learning para Detecção do Câncer de Mama**"
      ]
    },
    {
      "cell_type": "markdown",
      "metadata": {
        "id": "eFF0K3IN57bK",
        "colab_type": "text"
      },
      "source": [
        "O uso e a busca por novas tecnologias como Machine Leanirng, inteligência artifical e aplicações de modelos de inteligencia computacional para contribuir com diagnósticos mais rápidos e precisos tem crescido cada vez mais. Segundo a [pesquisa](https://www.femama.org.br/2018/br/noticia/o-cancer-de-mama-em-numeros) da Agência Internacional de Pesquisa em Câncer (IARC) do ano de 2018, o câncer de mama era o quinto em questão de mortalidade no mundo, sendo estimadas mais de 627 mil mortes em 2018, o que representa 6,6% do total de mortes por todos os tipos da doença. Em 2019, foram estimados 59.700 novos casos em mulheres, o que representa uma taxa de incidência de 51,29 casos por 100 mil mulheres. "
      ]
    },
    {
      "cell_type": "markdown",
      "metadata": {
        "id": "CgJI3Up1_xFa",
        "colab_type": "text"
      },
      "source": [
        "O principal objetivo do uso de tecnologias como Machine Learning é melhorar a precisão e a velocidade que são feitos os diagnósticos, sendo os diagnósticos precose da doença os principais fatores para reduzir a mortalidade por câncer. Com o diagnóstico precose as chances de curas chegam a 95%. "
      ]
    },
    {
      "cell_type": "markdown",
      "metadata": {
        "id": "K6rZ68OnDFIv",
        "colab_type": "text"
      },
      "source": [
        "Nsse projeto de Data Science construi um modelo de Machine Learning capaz de detectar o câncer de mama. "
      ]
    },
    {
      "cell_type": "markdown",
      "metadata": {
        "id": "k8wc8yADDYnT",
        "colab_type": "text"
      },
      "source": [
        "Fontes de informações: \n",
        "\n",
        "https://www.femama.org.br/2018/br/noticia/o-cancer-de-mama-em-numeros \n",
        "\n",
        "https://www.inca.gov.br/sites/ufu.sti.inca.local/files/media/document/a_situacao_ca_mama_brasil_2019.pdf"
      ]
    },
    {
      "cell_type": "markdown",
      "metadata": {
        "id": "hEofhDiTIl60",
        "colab_type": "text"
      },
      "source": [
        "#**Etapas do projeto:**\n",
        "\n",
        "* Coleta dos dados\n",
        "   1. Leitura do Arquivo\n",
        "   2. Importar os pacotes e dataset necessários \n",
        "* Limpeza dos dados \n",
        "* Exploração dos dados \n",
        "* Modelagem dos dados \n",
        "* Algoritmos de Machine Learning \n",
        "* Avaliar desempenho dos modelos usando as metricas corretas "
      ]
    },
    {
      "cell_type": "markdown",
      "metadata": {
        "id": "I_JFmOA1JxpS",
        "colab_type": "text"
      },
      "source": [
        "#**Coleta dos dados**"
      ]
    },
    {
      "cell_type": "markdown",
      "metadata": {
        "id": "76Yr5VRyJ9rz",
        "colab_type": "text"
      },
      "source": [
        "Se você ainda não conhece o [repositório de Machine Learning da UCI](https://archive.ics.uci.edu/ml/index.php) você está \"perdendo tempo\", o UCI Machine Learning Repository é um conjunto de bancos de dados, teorias de domínio e geradores de dados usados pela comunidade de aprendizado de máquina para a análise empírica de algoritmos de aprendizado de máquina.  \n",
        "\n",
        "Para a construção do modelo de Machine Learning foi usado o banco de dados Wisconsin, disponibilizado no Repositório de Machine Learning da UCI."
      ]
    },
    {
      "cell_type": "markdown",
      "metadata": {
        "id": "6sUwHD86TnfT",
        "colab_type": "text"
      },
      "source": [
        "O conjunto de dados que será utilizado nesta análise também está disponivel no kaggle, faça o dowload através desse [link](https://www.kaggle.com/uciml/breast-cancer-wisconsin-data/tasks)."
      ]
    },
    {
      "cell_type": "markdown",
      "metadata": {
        "id": "lh9MJlTcUIkc",
        "colab_type": "text"
      },
      "source": [
        "###**Leitura do arquivo**"
      ]
    },
    {
      "cell_type": "markdown",
      "metadata": {
        "id": "3nayMc3KUU4n",
        "colab_type": "text"
      },
      "source": [
        "O conjunto de dados que vamos utilizar é um arquivo no formato CSV contendo 569 entradas, 32 colunas e os dados estão separados por vírgula, onde as observações foram obtidas por meio da aspiração com agulha fina de células da mama. Importante salientar que a variável alvo pode ser classificada em benigna ou maligna."
      ]
    },
    {
      "cell_type": "markdown",
      "metadata": {
        "id": "qoXipbacVmtu",
        "colab_type": "text"
      },
      "source": [
        "###**Importar os pacotes e dataset necessários**"
      ]
    },
    {
      "cell_type": "markdown",
      "metadata": {
        "id": "UYrw-SkrWclq",
        "colab_type": "text"
      },
      "source": [
        "Nosso arquivo em CSV será importado para uma estrutura DataFrame utilizando a biblioteca pandas para manipular e análisar os dados. "
      ]
    },
    {
      "cell_type": "code",
      "metadata": {
        "id": "CxknYCLTVeGM",
        "colab_type": "code",
        "colab": {}
      },
      "source": [
        "# importar os pacotes necessários\n",
        "import pandas as pd\n",
        "import matplotlib.pyplot as plt\n",
        "import seaborn as sns\n",
        "from xgboost import XGBClassifier\n",
        "from sklearn.model_selection import train_test_split\n",
        "from sklearn.metrics import accuracy_score\n",
        "from sklearn.metrics import mean_squared_error\n",
        "from sklearn.impute import SimpleImputer\n",
        "\n",
        "\n",
        "# configurar o notebook\n",
        "sns.set_style()"
      ],
      "execution_count": 0,
      "outputs": []
    },
    {
      "cell_type": "markdown",
      "metadata": {
        "id": "QTK90sw3XbJ-",
        "colab_type": "text"
      },
      "source": [
        "Com os pacotes necessários importados, vamos agora importar o nosso arquivo que está no formato CSV para um dataframe"
      ]
    },
    {
      "cell_type": "code",
      "metadata": {
        "id": "R_6hz7HyWz-j",
        "colab_type": "code",
        "colab": {}
      },
      "source": [
        "dados = 'https://raw.githubusercontent.com/luislauriano/data_science/master/data/dados_diag_cancer.csv'\n",
        "df = pd.read_csv(dados, sep = ',')\n",
        "\n",
        "# eliminar uma coluna com erro\n",
        "df.drop('Unnamed: 32', axis=1, inplace=True)"
      ],
      "execution_count": 0,
      "outputs": []
    },
    {
      "cell_type": "markdown",
      "metadata": {
        "id": "U5rWcwdgYvrW",
        "colab_type": "text"
      },
      "source": [
        "#**Limpeza dos dados**"
      ]
    },
    {
      "cell_type": "markdown",
      "metadata": {
        "id": "iUAGUm1MY04s",
        "colab_type": "text"
      },
      "source": [
        "A primeira coisa que precisamos fazer após importar o dataset é verificar e examinar com cautela as dimensões do DataFrame e as primeiras entradas. Isso possibilitará criar uma consciência situacional inicial a respeito do formato de entrada e da estrutura geral dos dados. "
      ]
    },
    {
      "cell_type": "markdown",
      "metadata": {
        "id": "toGphBKMZrDv",
        "colab_type": "text"
      },
      "source": [
        "**Informações sobre os atributos**:\n",
        "* A coluna **id** representa o número de identificação.\n",
        "* A coluna **diagnosis** é a variável alvo(o que quremos prever).\n",
        "     * M - Maligno\n",
        "     * B - Benigno\n",
        "* A coluna radius representa a média das distâncias do centro aos pontos do perímetro\n",
        "* A coluna texture representa o desvio padrão dos valores da escala de cinza \n",
        "* Coluna perimeter \n",
        "* Coluna area\n",
        "* A coluna smoothness_mean representa a variação local nos comprimentos do raio\n",
        "* A coluna compactness representa o perímetro ^2 / area - 1.0)\n",
        "* A coluna concavity representa a severidade das porções côncavas do contorno \n",
        "* A coluna concave points representa o número de porções côncavas do contorno\n",
        "* symmetry_mean\n",
        "* fractal_dimension representa a aproximação da costa - 1 "
      ]
    },
    {
      "cell_type": "code",
      "metadata": {
        "id": "b7ohjcQwePol",
        "colab_type": "code",
        "colab": {}
      },
      "source": [
        ""
      ],
      "execution_count": 0,
      "outputs": []
    }
  ]
}