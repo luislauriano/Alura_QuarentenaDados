{
  "nbformat": 4,
  "nbformat_minor": 0,
  "metadata": {
    "colab": {
      "name": "Aula1_Pandas.ipynb",
      "provenance": [],
      "include_colab_link": true
    },
    "kernelspec": {
      "name": "python3",
      "display_name": "Python 3"
    }
  },
  "cells": [
    {
      "cell_type": "markdown",
      "metadata": {
        "id": "view-in-github",
        "colab_type": "text"
      },
      "source": [
        "<a href=\"https://colab.research.google.com/github/luislauriano/Alura_QuarentenaDados/blob/master/Aula1_Pandas.ipynb\" target=\"_parent\"><img src=\"https://colab.research.google.com/assets/colab-badge.svg\" alt=\"Open In Colab\"/></a>"
      ]
    },
    {
      "cell_type": "markdown",
      "metadata": {
        "id": "eIQ-lV1EDQOO",
        "colab_type": "text"
      },
      "source": [
        "# **Manipulação de Dados**"
      ]
    },
    {
      "cell_type": "code",
      "metadata": {
        "id": "TUDpjUfcDPXC",
        "colab_type": "code",
        "colab": {}
      },
      "source": [
        "import pandas as pd"
      ],
      "execution_count": 0,
      "outputs": []
    },
    {
      "cell_type": "markdown",
      "metadata": {
        "id": "Tyxylz0JRy3A",
        "colab_type": "text"
      },
      "source": [
        "# **Leitura de Arquivos**"
      ]
    },
    {
      "cell_type": "markdown",
      "metadata": {
        "id": "DR2zI3mRSJVR",
        "colab_type": "text"
      },
      "source": [
        "## Arquivos CSV e TXT"
      ]
    },
    {
      "cell_type": "markdown",
      "metadata": {
        "id": "jnGgKtM_SzLa",
        "colab_type": "text"
      },
      "source": [
        "pd.read_csv(**string** , sep = **string** , skiprows = **int**, encoding = **string específica**)"
      ]
    },
    {
      "cell_type": "markdown",
      "metadata": {
        "id": "aJ3xTwj5Tnks",
        "colab_type": "text"
      },
      "source": [
        "1. nome do arquivo\n",
        "2. string que separa os dados no arquivo\n",
        "3. quantidade de linhas a serem puladas\n",
        "4. como o arquivo está codificado: utf-8 ou latin-1"
      ]
    },
    {
      "cell_type": "code",
      "metadata": {
        "id": "C5otJo8_Stfn",
        "colab_type": "code",
        "colab": {}
      },
      "source": [
        "df_materiais = pd.read_csv('materiais.csv', sep = ';', skiprows = 0, encoding = 'utf-8')"
      ],
      "execution_count": 0,
      "outputs": []
    },
    {
      "cell_type": "code",
      "metadata": {
        "id": "oIG6bYbCrg7-",
        "colab_type": "code",
        "outputId": "6fbaceb1-081c-4e71-9637-49bdf47b780b",
        "colab": {
          "base_uri": "https://localhost:8080/",
          "height": 419
        }
      },
      "source": [
        "df_materiais"
      ],
      "execution_count": 6,
      "outputs": [
        {
          "output_type": "execute_result",
          "data": {
            "text/html": [
              "<div>\n",
              "<style scoped>\n",
              "    .dataframe tbody tr th:only-of-type {\n",
              "        vertical-align: middle;\n",
              "    }\n",
              "\n",
              "    .dataframe tbody tr th {\n",
              "        vertical-align: top;\n",
              "    }\n",
              "\n",
              "    .dataframe thead th {\n",
              "        text-align: right;\n",
              "    }\n",
              "</style>\n",
              "<table border=\"1\" class=\"dataframe\">\n",
              "  <thead>\n",
              "    <tr style=\"text-align: right;\">\n",
              "      <th></th>\n",
              "      <th>Material</th>\n",
              "      <th>Texto breve material</th>\n",
              "    </tr>\n",
              "  </thead>\n",
              "  <tbody>\n",
              "    <tr>\n",
              "      <th>0</th>\n",
              "      <td>4000010</td>\n",
              "      <td>ALCACHOFRA 300MG</td>\n",
              "    </tr>\n",
              "    <tr>\n",
              "      <th>1</th>\n",
              "      <td>4000013</td>\n",
              "      <td>ANTI-SEPTICO ANESTESICO</td>\n",
              "    </tr>\n",
              "    <tr>\n",
              "      <th>2</th>\n",
              "      <td>4000014</td>\n",
              "      <td>ASSEPTCARE SOL</td>\n",
              "    </tr>\n",
              "    <tr>\n",
              "      <th>3</th>\n",
              "      <td>4000015</td>\n",
              "      <td>ASSEPTCARE SOL</td>\n",
              "    </tr>\n",
              "    <tr>\n",
              "      <th>4</th>\n",
              "      <td>4000016</td>\n",
              "      <td>BENATUX FRAMBOESA</td>\n",
              "    </tr>\n",
              "    <tr>\n",
              "      <th>...</th>\n",
              "      <td>...</td>\n",
              "      <td>...</td>\n",
              "    </tr>\n",
              "    <tr>\n",
              "      <th>4577</th>\n",
              "      <td>6001409</td>\n",
              "      <td>SABONETE LIQ</td>\n",
              "    </tr>\n",
              "    <tr>\n",
              "      <th>4578</th>\n",
              "      <td>6001410</td>\n",
              "      <td>SABONETE LIQ</td>\n",
              "    </tr>\n",
              "    <tr>\n",
              "      <th>4579</th>\n",
              "      <td>6001411</td>\n",
              "      <td>TÔNICO NIVEA</td>\n",
              "    </tr>\n",
              "    <tr>\n",
              "      <th>4580</th>\n",
              "      <td>6001412</td>\n",
              "      <td>TÔNICO NIVEA</td>\n",
              "    </tr>\n",
              "    <tr>\n",
              "      <th>4581</th>\n",
              "      <td>6001415</td>\n",
              "      <td>CHOCOLATE KINDER</td>\n",
              "    </tr>\n",
              "  </tbody>\n",
              "</table>\n",
              "<p>4582 rows × 2 columns</p>\n",
              "</div>"
            ],
            "text/plain": [
              "      Material     Texto breve material\n",
              "0      4000010         ALCACHOFRA 300MG\n",
              "1      4000013  ANTI-SEPTICO ANESTESICO\n",
              "2      4000014           ASSEPTCARE SOL\n",
              "3      4000015           ASSEPTCARE SOL\n",
              "4      4000016        BENATUX FRAMBOESA\n",
              "...        ...                      ...\n",
              "4577   6001409             SABONETE LIQ\n",
              "4578   6001410             SABONETE LIQ\n",
              "4579   6001411             TÔNICO NIVEA\n",
              "4580   6001412             TÔNICO NIVEA\n",
              "4581   6001415         CHOCOLATE KINDER\n",
              "\n",
              "[4582 rows x 2 columns]"
            ]
          },
          "metadata": {
            "tags": []
          },
          "execution_count": 6
        }
      ]
    },
    {
      "cell_type": "code",
      "metadata": {
        "id": "x36xxDJ5V1vz",
        "colab_type": "code",
        "outputId": "87ea0f49-f43b-465b-bc0f-53ac16e7a892",
        "colab": {
          "base_uri": "https://localhost:8080/",
          "height": 34
        }
      },
      "source": [
        "df_materiais['Material'].loc[0]"
      ],
      "execution_count": 7,
      "outputs": [
        {
          "output_type": "execute_result",
          "data": {
            "text/plain": [
              "4000010"
            ]
          },
          "metadata": {
            "tags": []
          },
          "execution_count": 7
        }
      ]
    },
    {
      "cell_type": "code",
      "metadata": {
        "id": "jfwBCAXVWQX2",
        "colab_type": "code",
        "colab": {}
      },
      "source": [
        "df_pedidos = pd.read_csv('pedidos.txt' , sep= '|', skiprows = 2, encoding = 'latin-1')"
      ],
      "execution_count": 0,
      "outputs": []
    },
    {
      "cell_type": "code",
      "metadata": {
        "id": "YNrU29DVrkGy",
        "colab_type": "code",
        "outputId": "7e70fa7b-5f23-402e-9278-fead4ca11828",
        "colab": {
          "base_uri": "https://localhost:8080/",
          "height": 419
        }
      },
      "source": [
        "df_pedidos "
      ],
      "execution_count": 9,
      "outputs": [
        {
          "output_type": "execute_result",
          "data": {
            "text/html": [
              "<div>\n",
              "<style scoped>\n",
              "    .dataframe tbody tr th:only-of-type {\n",
              "        vertical-align: middle;\n",
              "    }\n",
              "\n",
              "    .dataframe tbody tr th {\n",
              "        vertical-align: top;\n",
              "    }\n",
              "\n",
              "    .dataframe thead th {\n",
              "        text-align: right;\n",
              "    }\n",
              "</style>\n",
              "<table border=\"1\" class=\"dataframe\">\n",
              "  <thead>\n",
              "    <tr style=\"text-align: right;\">\n",
              "      <th></th>\n",
              "      <th>Cod. fornecedor</th>\n",
              "      <th>Material</th>\n",
              "      <th>Qtd.pedido</th>\n",
              "      <th>Texto breve</th>\n",
              "      <th>Qtd.estoque</th>\n",
              "    </tr>\n",
              "  </thead>\n",
              "  <tbody>\n",
              "    <tr>\n",
              "      <th>0</th>\n",
              "      <td>3593</td>\n",
              "      <td>4003232.0</td>\n",
              "      <td>120</td>\n",
              "      <td>FLUCANIL 150MG</td>\n",
              "      <td>12</td>\n",
              "    </tr>\n",
              "    <tr>\n",
              "      <th>1</th>\n",
              "      <td>3593</td>\n",
              "      <td>4005091.0</td>\n",
              "      <td>60</td>\n",
              "      <td>BETRICORT CREME</td>\n",
              "      <td>6</td>\n",
              "    </tr>\n",
              "    <tr>\n",
              "      <th>2</th>\n",
              "      <td>3593</td>\n",
              "      <td>4003225.0</td>\n",
              "      <td>51</td>\n",
              "      <td>COLIRIO GEOLAB</td>\n",
              "      <td>5</td>\n",
              "    </tr>\n",
              "    <tr>\n",
              "      <th>3</th>\n",
              "      <td>3593</td>\n",
              "      <td>4003251.0</td>\n",
              "      <td>60</td>\n",
              "      <td>MIZONOL CREME</td>\n",
              "      <td>6</td>\n",
              "    </tr>\n",
              "    <tr>\n",
              "      <th>4</th>\n",
              "      <td>3593</td>\n",
              "      <td>4001716.0</td>\n",
              "      <td>20</td>\n",
              "      <td>GINO-COLON TUBO</td>\n",
              "      <td>2</td>\n",
              "    </tr>\n",
              "    <tr>\n",
              "      <th>...</th>\n",
              "      <td>...</td>\n",
              "      <td>...</td>\n",
              "      <td>...</td>\n",
              "      <td>...</td>\n",
              "      <td>...</td>\n",
              "    </tr>\n",
              "    <tr>\n",
              "      <th>1064</th>\n",
              "      <td>4239</td>\n",
              "      <td>4000333.0</td>\n",
              "      <td>1</td>\n",
              "      <td>CRESTOR 10MG</td>\n",
              "      <td>0</td>\n",
              "    </tr>\n",
              "    <tr>\n",
              "      <th>1065</th>\n",
              "      <td>4239</td>\n",
              "      <td>4003698.0</td>\n",
              "      <td>1</td>\n",
              "      <td>PANTOGAR C/90CP</td>\n",
              "      <td>0</td>\n",
              "    </tr>\n",
              "    <tr>\n",
              "      <th>1066</th>\n",
              "      <td>4239</td>\n",
              "      <td>4000359.0</td>\n",
              "      <td>1</td>\n",
              "      <td>XARELTO 15MG</td>\n",
              "      <td>0</td>\n",
              "    </tr>\n",
              "    <tr>\n",
              "      <th>1067</th>\n",
              "      <td>4239</td>\n",
              "      <td>4005114.0</td>\n",
              "      <td>1</td>\n",
              "      <td>ARADOIS H</td>\n",
              "      <td>0</td>\n",
              "    </tr>\n",
              "    <tr>\n",
              "      <th>1068</th>\n",
              "      <td>4239</td>\n",
              "      <td>4003731.0</td>\n",
              "      <td>1</td>\n",
              "      <td>DIOVAN 160MG</td>\n",
              "      <td>0</td>\n",
              "    </tr>\n",
              "  </tbody>\n",
              "</table>\n",
              "<p>1069 rows × 5 columns</p>\n",
              "</div>"
            ],
            "text/plain": [
              "      Cod. fornecedor   Material  Qtd.pedido      Texto breve  Qtd.estoque\n",
              "0                3593  4003232.0         120   FLUCANIL 150MG           12\n",
              "1                3593  4005091.0          60  BETRICORT CREME            6\n",
              "2                3593  4003225.0          51   COLIRIO GEOLAB            5\n",
              "3                3593  4003251.0          60    MIZONOL CREME            6\n",
              "4                3593  4001716.0          20  GINO-COLON TUBO            2\n",
              "...               ...        ...         ...              ...          ...\n",
              "1064             4239  4000333.0           1     CRESTOR 10MG            0\n",
              "1065             4239  4003698.0           1  PANTOGAR C/90CP            0\n",
              "1066             4239  4000359.0           1     XARELTO 15MG            0\n",
              "1067             4239  4005114.0           1        ARADOIS H            0\n",
              "1068             4239  4003731.0           1     DIOVAN 160MG            0\n",
              "\n",
              "[1069 rows x 5 columns]"
            ]
          },
          "metadata": {
            "tags": []
          },
          "execution_count": 9
        }
      ]
    },
    {
      "cell_type": "markdown",
      "metadata": {
        "id": "wcuutT0zSJhS",
        "colab_type": "text"
      },
      "source": [
        "## Arquivos XLSX"
      ]
    },
    {
      "cell_type": "markdown",
      "metadata": {
        "id": "sZTlLAgmXDyU",
        "colab_type": "text"
      },
      "source": [
        "pd.read_excel( **string**, sheet_name = **string** ou **int**, skiprows = **int**)"
      ]
    },
    {
      "cell_type": "markdown",
      "metadata": {
        "id": "HNKVx9e3XD4K",
        "colab_type": "text"
      },
      "source": [
        "1. nome do arquivo\n",
        "2. nome da aba do excel ou o indice da aba do excel\n",
        "3. número de linhas a serem puladas"
      ]
    },
    {
      "cell_type": "code",
      "metadata": {
        "id": "-wuGU9yFRnt4",
        "colab_type": "code",
        "colab": {}
      },
      "source": [
        "df_vendas1 = pd.read_excel('vendas_1.xlsx', sheet_name = 'vendas', skiprows = 0)"
      ],
      "execution_count": 0,
      "outputs": []
    },
    {
      "cell_type": "code",
      "metadata": {
        "id": "HKhCQKZyruzg",
        "colab_type": "code",
        "outputId": "54f54dc2-6eb2-4765-daf6-e29cffa1ffb1",
        "colab": {
          "base_uri": "https://localhost:8080/",
          "height": 419
        }
      },
      "source": [
        "df_vendas1"
      ],
      "execution_count": 11,
      "outputs": [
        {
          "output_type": "execute_result",
          "data": {
            "text/html": [
              "<div>\n",
              "<style scoped>\n",
              "    .dataframe tbody tr th:only-of-type {\n",
              "        vertical-align: middle;\n",
              "    }\n",
              "\n",
              "    .dataframe tbody tr th {\n",
              "        vertical-align: top;\n",
              "    }\n",
              "\n",
              "    .dataframe thead th {\n",
              "        text-align: right;\n",
              "    }\n",
              "</style>\n",
              "<table border=\"1\" class=\"dataframe\">\n",
              "  <thead>\n",
              "    <tr style=\"text-align: right;\">\n",
              "      <th></th>\n",
              "      <th>Data</th>\n",
              "      <th>Material</th>\n",
              "      <th>Qtd.faturd</th>\n",
              "    </tr>\n",
              "  </thead>\n",
              "  <tbody>\n",
              "    <tr>\n",
              "      <th>0</th>\n",
              "      <td>25-04-2020</td>\n",
              "      <td>6000110</td>\n",
              "      <td>1</td>\n",
              "    </tr>\n",
              "    <tr>\n",
              "      <th>1</th>\n",
              "      <td>25-04-2020</td>\n",
              "      <td>6000129</td>\n",
              "      <td>1</td>\n",
              "    </tr>\n",
              "    <tr>\n",
              "      <th>2</th>\n",
              "      <td>25-04-2020</td>\n",
              "      <td>6000163</td>\n",
              "      <td>1</td>\n",
              "    </tr>\n",
              "    <tr>\n",
              "      <th>3</th>\n",
              "      <td>25-04-2020</td>\n",
              "      <td>6000172</td>\n",
              "      <td>1</td>\n",
              "    </tr>\n",
              "    <tr>\n",
              "      <th>4</th>\n",
              "      <td>25-04-2020</td>\n",
              "      <td>6000892</td>\n",
              "      <td>1</td>\n",
              "    </tr>\n",
              "    <tr>\n",
              "      <th>...</th>\n",
              "      <td>...</td>\n",
              "      <td>...</td>\n",
              "      <td>...</td>\n",
              "    </tr>\n",
              "    <tr>\n",
              "      <th>8652</th>\n",
              "      <td>27-04-2020</td>\n",
              "      <td>4005739</td>\n",
              "      <td>1</td>\n",
              "    </tr>\n",
              "    <tr>\n",
              "      <th>8653</th>\n",
              "      <td>27-04-2020</td>\n",
              "      <td>4005739</td>\n",
              "      <td>1</td>\n",
              "    </tr>\n",
              "    <tr>\n",
              "      <th>8654</th>\n",
              "      <td>27-04-2020</td>\n",
              "      <td>4005903</td>\n",
              "      <td>1</td>\n",
              "    </tr>\n",
              "    <tr>\n",
              "      <th>8655</th>\n",
              "      <td>27-04-2020</td>\n",
              "      <td>4005911</td>\n",
              "      <td>1</td>\n",
              "    </tr>\n",
              "    <tr>\n",
              "      <th>8656</th>\n",
              "      <td>27-04-2020</td>\n",
              "      <td>4005927</td>\n",
              "      <td>1</td>\n",
              "    </tr>\n",
              "  </tbody>\n",
              "</table>\n",
              "<p>8657 rows × 3 columns</p>\n",
              "</div>"
            ],
            "text/plain": [
              "            Data  Material  Qtd.faturd\n",
              "0     25-04-2020   6000110           1\n",
              "1     25-04-2020   6000129           1\n",
              "2     25-04-2020   6000163           1\n",
              "3     25-04-2020   6000172           1\n",
              "4     25-04-2020   6000892           1\n",
              "...          ...       ...         ...\n",
              "8652  27-04-2020   4005739           1\n",
              "8653  27-04-2020   4005739           1\n",
              "8654  27-04-2020   4005903           1\n",
              "8655  27-04-2020   4005911           1\n",
              "8656  27-04-2020   4005927           1\n",
              "\n",
              "[8657 rows x 3 columns]"
            ]
          },
          "metadata": {
            "tags": []
          },
          "execution_count": 11
        }
      ]
    },
    {
      "cell_type": "markdown",
      "metadata": {
        "id": "n6pfjyUcu3Sw",
        "colab_type": "text"
      },
      "source": [
        "Também poderiamos colocar o sheet_name como indice, iniciando a ordem com 0"
      ]
    },
    {
      "cell_type": "code",
      "metadata": {
        "id": "OE1qM-FFYRjp",
        "colab_type": "code",
        "colab": {}
      },
      "source": [
        "df_vendas2 = pd.read_excel('vendas_2.xlsx', sheet_name = 0 , skiprows = 0)"
      ],
      "execution_count": 0,
      "outputs": []
    },
    {
      "cell_type": "markdown",
      "metadata": {
        "id": "YUYzWqhPYyL8",
        "colab_type": "text"
      },
      "source": [
        "# **Tratamento de Dados**"
      ]
    },
    {
      "cell_type": "markdown",
      "metadata": {
        "id": "sxzqPbQdYyXF",
        "colab_type": "text"
      },
      "source": [
        "## Renomeando colunas"
      ]
    },
    {
      "cell_type": "markdown",
      "metadata": {
        "id": "2-2lwaKgvT1E",
        "colab_type": "text"
      },
      "source": [
        "**Posso renomear uma ou mais colunas com um dicionario**"
      ]
    },
    {
      "cell_type": "markdown",
      "metadata": {
        "id": "KLX9khgBY3By",
        "colab_type": "text"
      },
      "source": [
        "dataframe.rename(columns=**dict**)"
      ]
    },
    {
      "cell_type": "markdown",
      "metadata": {
        "id": "UrKMUQC9ZJUN",
        "colab_type": "text"
      },
      "source": [
        "1. dict = {'coluna_antiga':'coluna_nova'}"
      ]
    },
    {
      "cell_type": "code",
      "metadata": {
        "id": "4LDAFVW9Ygv2",
        "colab_type": "code",
        "colab": {}
      },
      "source": [
        "df_materiais = df_materiais.rename(columns={'Material':'material', 'Texto breve material':'texto_breve'})"
      ],
      "execution_count": 0,
      "outputs": []
    },
    {
      "cell_type": "markdown",
      "metadata": {
        "id": "19X-zc8Yvaor",
        "colab_type": "text"
      },
      "source": [
        "**Ou renomear todas as colunas como uma lista**"
      ]
    },
    {
      "cell_type": "markdown",
      "metadata": {
        "id": "HTdSnBkaaWJP",
        "colab_type": "text"
      },
      "source": [
        "dataframe.columns = **lista**"
      ]
    },
    {
      "cell_type": "markdown",
      "metadata": {
        "id": "kK2ZEfanagRq",
        "colab_type": "text"
      },
      "source": [
        "1. lista = ['coluna_nova']"
      ]
    },
    {
      "cell_type": "code",
      "metadata": {
        "id": "toIK2jyvZ95T",
        "colab_type": "code",
        "colab": {}
      },
      "source": [
        "df_pedidos.columns = ['cod_fornecedor','material', 'qtd_pedido', 'texto_breve', 'qtd_estoque']"
      ],
      "execution_count": 0,
      "outputs": []
    },
    {
      "cell_type": "code",
      "metadata": {
        "id": "lnYMIah0auG1",
        "colab_type": "code",
        "colab": {}
      },
      "source": [
        "df_vendas1.columns = ['data', 'material', 'qtd_vendas']"
      ],
      "execution_count": 0,
      "outputs": []
    },
    {
      "cell_type": "code",
      "metadata": {
        "id": "plYWbSw5bGHR",
        "colab_type": "code",
        "colab": {}
      },
      "source": [
        "df_vendas2.columns = ['data', 'material', 'qtd_vendas']"
      ],
      "execution_count": 0,
      "outputs": []
    },
    {
      "cell_type": "markdown",
      "metadata": {
        "id": "E31XfY8Rbt8x",
        "colab_type": "text"
      },
      "source": [
        "## Deletando colunas"
      ]
    },
    {
      "cell_type": "markdown",
      "metadata": {
        "id": "HwR6TH5_bwjy",
        "colab_type": "text"
      },
      "source": [
        "dataframe.drop( **lista**, axis = **string específica** ou int)"
      ]
    },
    {
      "cell_type": "markdown",
      "metadata": {
        "id": "0nxLhbA8cHqo",
        "colab_type": "text"
      },
      "source": [
        "1. lista de nomes de colunas ou index das linhas a serem deletadas\n",
        "\n",
        "2. axis = 'columns' p/ colunas ou 'index' p/ linhas\n",
        "2. Ou 1 (colunas) ou 0 (linhas)"
      ]
    },
    {
      "cell_type": "code",
      "metadata": {
        "id": "ScmqzSI5bXv8",
        "colab_type": "code",
        "colab": {}
      },
      "source": [
        "df_materiais = df_materiais.drop( ['texto_breve'], axis = 'columns')"
      ],
      "execution_count": 0,
      "outputs": []
    },
    {
      "cell_type": "markdown",
      "metadata": {
        "id": "Qy17OGSp0uJv",
        "colab_type": "text"
      },
      "source": [
        "Agora vamos ver como se faz para escolher apenas as colunas que desejamos utilizar e outras colunas serão esquecidas, mas não deletadas"
      ]
    },
    {
      "cell_type": "markdown",
      "metadata": {
        "id": "fQ05VoIi1QwI",
        "colab_type": "text"
      },
      "source": [
        "Esse formato também permite escolher a ordem das colunas"
      ]
    },
    {
      "cell_type": "markdown",
      "metadata": {
        "id": "36_wqqhddMyX",
        "colab_type": "text"
      },
      "source": [
        "dataframe[**lista**].copy()"
      ]
    },
    {
      "cell_type": "markdown",
      "metadata": {
        "id": "ZTbf3niddPXW",
        "colab_type": "text"
      },
      "source": [
        "1. lista = ['colunas a manter']"
      ]
    },
    {
      "cell_type": "code",
      "metadata": {
        "id": "IZvBPUDTcrPs",
        "colab_type": "code",
        "colab": {}
      },
      "source": [
        "df_pedidos = df_pedidos[['material', 'qtd_pedido', 'qtd_estoque']].copy()"
      ],
      "execution_count": 0,
      "outputs": []
    },
    {
      "cell_type": "code",
      "metadata": {
        "id": "BA_12B7hdKZg",
        "colab_type": "code",
        "colab": {}
      },
      "source": [
        "df_vendas1 = df_vendas1[['material','qtd_vendas']].copy()"
      ],
      "execution_count": 0,
      "outputs": []
    },
    {
      "cell_type": "code",
      "metadata": {
        "id": "Z0tJ5RWCeaqF",
        "colab_type": "code",
        "colab": {}
      },
      "source": [
        "df_vendas2 = df_vendas2.drop( ['data'], axis = 'columns')"
      ],
      "execution_count": 0,
      "outputs": []
    },
    {
      "cell_type": "markdown",
      "metadata": {
        "id": "xGyH61UffI2g",
        "colab_type": "text"
      },
      "source": [
        "## Verificando tipos de colunas"
      ]
    },
    {
      "cell_type": "markdown",
      "metadata": {
        "id": "j8TyfjjlfTGE",
        "colab_type": "text"
      },
      "source": [
        "dataframe.dtypes (para verificar tipos de todas as colunas)\n",
        "\n",
        "dataframe['coluna'].dtype"
      ]
    },
    {
      "cell_type": "code",
      "metadata": {
        "id": "47GyS8shepVA",
        "colab_type": "code",
        "outputId": "75fc1305-1884-4761-debf-5faa68ee235f",
        "colab": {
          "base_uri": "https://localhost:8080/",
          "height": 51
        }
      },
      "source": [
        "df_materiais.dtypes"
      ],
      "execution_count": 21,
      "outputs": [
        {
          "output_type": "execute_result",
          "data": {
            "text/plain": [
              "material    int64\n",
              "dtype: object"
            ]
          },
          "metadata": {
            "tags": []
          },
          "execution_count": 21
        }
      ]
    },
    {
      "cell_type": "code",
      "metadata": {
        "id": "r_seJpdNflDA",
        "colab_type": "code",
        "outputId": "fff9d47e-a132-4e73-c7ce-0e728c72e975",
        "colab": {
          "base_uri": "https://localhost:8080/",
          "height": 85
        }
      },
      "source": [
        "df_pedidos.dtypes"
      ],
      "execution_count": 22,
      "outputs": [
        {
          "output_type": "execute_result",
          "data": {
            "text/plain": [
              "material       float64\n",
              "qtd_pedido       int64\n",
              "qtd_estoque      int64\n",
              "dtype: object"
            ]
          },
          "metadata": {
            "tags": []
          },
          "execution_count": 22
        }
      ]
    },
    {
      "cell_type": "code",
      "metadata": {
        "id": "5wV8u2Z5f-Zg",
        "colab_type": "code",
        "outputId": "f17b0947-2936-47c2-b7c5-00432226437f",
        "colab": {
          "base_uri": "https://localhost:8080/",
          "height": 68
        }
      },
      "source": [
        "df_vendas1.dtypes"
      ],
      "execution_count": 23,
      "outputs": [
        {
          "output_type": "execute_result",
          "data": {
            "text/plain": [
              "material      int64\n",
              "qtd_vendas    int64\n",
              "dtype: object"
            ]
          },
          "metadata": {
            "tags": []
          },
          "execution_count": 23
        }
      ]
    },
    {
      "cell_type": "code",
      "metadata": {
        "id": "ewdeaFyvgBmy",
        "colab_type": "code",
        "outputId": "fab833f4-012b-4120-b4b4-b132f4ce48cf",
        "colab": {
          "base_uri": "https://localhost:8080/",
          "height": 68
        }
      },
      "source": [
        "df_vendas2.dtypes"
      ],
      "execution_count": 24,
      "outputs": [
        {
          "output_type": "execute_result",
          "data": {
            "text/plain": [
              "material      int64\n",
              "qtd_vendas    int64\n",
              "dtype: object"
            ]
          },
          "metadata": {
            "tags": []
          },
          "execution_count": 24
        }
      ]
    },
    {
      "cell_type": "markdown",
      "metadata": {
        "id": "e_MTYXaz2Pu8",
        "colab_type": "text"
      },
      "source": [
        "Pra visualizar o tipo de uma coluna especifica:\n"
      ]
    },
    {
      "cell_type": "code",
      "metadata": {
        "id": "VTkhRZWn2Tio",
        "colab_type": "code",
        "outputId": "bfe8dc0e-4b9a-4712-b24c-f487241451df",
        "colab": {
          "base_uri": "https://localhost:8080/",
          "height": 34
        }
      },
      "source": [
        "df_vendas2['material'].dtypes"
      ],
      "execution_count": 25,
      "outputs": [
        {
          "output_type": "execute_result",
          "data": {
            "text/plain": [
              "dtype('int64')"
            ]
          },
          "metadata": {
            "tags": []
          },
          "execution_count": 25
        }
      ]
    },
    {
      "cell_type": "markdown",
      "metadata": {
        "id": "dVIF4LrMgmPc",
        "colab_type": "text"
      },
      "source": [
        "## Alterando tipos de colunas"
      ]
    },
    {
      "cell_type": "markdown",
      "metadata": {
        "id": "-QsAD6uZgsHA",
        "colab_type": "text"
      },
      "source": [
        "para apenas uma coluna:\n",
        "\n",
        "dataframe['coluna'].astype(palavra reservada)"
      ]
    },
    {
      "cell_type": "markdown",
      "metadata": {
        "id": "fS41UDRwg8k2",
        "colab_type": "text"
      },
      "source": [
        "1. palavra reservada = str ou int ou float ou bool"
      ]
    },
    {
      "cell_type": "code",
      "metadata": {
        "id": "wAT8HBFXghv5",
        "colab_type": "code",
        "colab": {}
      },
      "source": [
        "df_pedidos['material'] = df_pedidos['material'].astype(int)"
      ],
      "execution_count": 0,
      "outputs": []
    },
    {
      "cell_type": "markdown",
      "metadata": {
        "id": "Yg8JYBKg8dMy",
        "colab_type": "text"
      },
      "source": [
        "Agora vamos escolher as nossas colunas e já transformar os seus tipos"
      ]
    },
    {
      "cell_type": "code",
      "metadata": {
        "id": "MnTX2vhwhS4F",
        "colab_type": "code",
        "colab": {}
      },
      "source": [
        "df_pedidos[['qtd_pedido','qtd_estoque']] = df_pedidos[['qtd_pedido','qtd_estoque']].astype(int)"
      ],
      "execution_count": 0,
      "outputs": []
    },
    {
      "cell_type": "markdown",
      "metadata": {
        "id": "ZbNBcx_BiY2E",
        "colab_type": "text"
      },
      "source": [
        "## Concatenação de tabelas (Juntar tabelas)"
      ]
    },
    {
      "cell_type": "markdown",
      "metadata": {
        "id": "olpsfTTVixWh",
        "colab_type": "text"
      },
      "source": [
        "pd.concat(**lista**)"
      ]
    },
    {
      "cell_type": "markdown",
      "metadata": {
        "id": "0mv00EFfjGw9",
        "colab_type": "text"
      },
      "source": [
        "1. lista = [lista de dataframes]"
      ]
    },
    {
      "cell_type": "code",
      "metadata": {
        "id": "eGVPzTgwjlb-",
        "colab_type": "code",
        "outputId": "db9c6d26-8d5c-48ad-fe54-8313b045260b",
        "colab": {
          "base_uri": "https://localhost:8080/",
          "height": 34
        }
      },
      "source": [
        "df_vendas1.shape"
      ],
      "execution_count": 28,
      "outputs": [
        {
          "output_type": "execute_result",
          "data": {
            "text/plain": [
              "(8657, 2)"
            ]
          },
          "metadata": {
            "tags": []
          },
          "execution_count": 28
        }
      ]
    },
    {
      "cell_type": "code",
      "metadata": {
        "id": "Qko9R03Ijqtd",
        "colab_type": "code",
        "outputId": "7e981581-feed-4d0a-c1e3-275c5882dcc9",
        "colab": {
          "base_uri": "https://localhost:8080/",
          "height": 34
        }
      },
      "source": [
        "df_vendas2.shape"
      ],
      "execution_count": 29,
      "outputs": [
        {
          "output_type": "execute_result",
          "data": {
            "text/plain": [
              "(8144, 2)"
            ]
          },
          "metadata": {
            "tags": []
          },
          "execution_count": 29
        }
      ]
    },
    {
      "cell_type": "code",
      "metadata": {
        "id": "_75dsX_uiJNa",
        "colab_type": "code",
        "colab": {}
      },
      "source": [
        "df_vendas = pd.concat([df_vendas1,df_vendas2])"
      ],
      "execution_count": 0,
      "outputs": []
    },
    {
      "cell_type": "code",
      "metadata": {
        "id": "QlEF0acz-W49",
        "colab_type": "code",
        "outputId": "de8c8b92-e49c-4ef9-c9a3-ecb25a756499",
        "colab": {
          "base_uri": "https://localhost:8080/",
          "height": 419
        }
      },
      "source": [
        "df_vendas"
      ],
      "execution_count": 31,
      "outputs": [
        {
          "output_type": "execute_result",
          "data": {
            "text/html": [
              "<div>\n",
              "<style scoped>\n",
              "    .dataframe tbody tr th:only-of-type {\n",
              "        vertical-align: middle;\n",
              "    }\n",
              "\n",
              "    .dataframe tbody tr th {\n",
              "        vertical-align: top;\n",
              "    }\n",
              "\n",
              "    .dataframe thead th {\n",
              "        text-align: right;\n",
              "    }\n",
              "</style>\n",
              "<table border=\"1\" class=\"dataframe\">\n",
              "  <thead>\n",
              "    <tr style=\"text-align: right;\">\n",
              "      <th></th>\n",
              "      <th>material</th>\n",
              "      <th>qtd_vendas</th>\n",
              "    </tr>\n",
              "  </thead>\n",
              "  <tbody>\n",
              "    <tr>\n",
              "      <th>0</th>\n",
              "      <td>6000110</td>\n",
              "      <td>1</td>\n",
              "    </tr>\n",
              "    <tr>\n",
              "      <th>1</th>\n",
              "      <td>6000129</td>\n",
              "      <td>1</td>\n",
              "    </tr>\n",
              "    <tr>\n",
              "      <th>2</th>\n",
              "      <td>6000163</td>\n",
              "      <td>1</td>\n",
              "    </tr>\n",
              "    <tr>\n",
              "      <th>3</th>\n",
              "      <td>6000172</td>\n",
              "      <td>1</td>\n",
              "    </tr>\n",
              "    <tr>\n",
              "      <th>4</th>\n",
              "      <td>6000892</td>\n",
              "      <td>1</td>\n",
              "    </tr>\n",
              "    <tr>\n",
              "      <th>...</th>\n",
              "      <td>...</td>\n",
              "      <td>...</td>\n",
              "    </tr>\n",
              "    <tr>\n",
              "      <th>8139</th>\n",
              "      <td>6000768</td>\n",
              "      <td>1</td>\n",
              "    </tr>\n",
              "    <tr>\n",
              "      <th>8140</th>\n",
              "      <td>6000839</td>\n",
              "      <td>1</td>\n",
              "    </tr>\n",
              "    <tr>\n",
              "      <th>8141</th>\n",
              "      <td>6000843</td>\n",
              "      <td>1</td>\n",
              "    </tr>\n",
              "    <tr>\n",
              "      <th>8142</th>\n",
              "      <td>6000969</td>\n",
              "      <td>1</td>\n",
              "    </tr>\n",
              "    <tr>\n",
              "      <th>8143</th>\n",
              "      <td>6000400</td>\n",
              "      <td>1</td>\n",
              "    </tr>\n",
              "  </tbody>\n",
              "</table>\n",
              "<p>16801 rows × 2 columns</p>\n",
              "</div>"
            ],
            "text/plain": [
              "      material  qtd_vendas\n",
              "0      6000110           1\n",
              "1      6000129           1\n",
              "2      6000163           1\n",
              "3      6000172           1\n",
              "4      6000892           1\n",
              "...        ...         ...\n",
              "8139   6000768           1\n",
              "8140   6000839           1\n",
              "8141   6000843           1\n",
              "8142   6000969           1\n",
              "8143   6000400           1\n",
              "\n",
              "[16801 rows x 2 columns]"
            ]
          },
          "metadata": {
            "tags": []
          },
          "execution_count": 31
        }
      ]
    },
    {
      "cell_type": "markdown",
      "metadata": {
        "id": "uf6d7cOe_XjE",
        "colab_type": "text"
      },
      "source": [
        "Temos 16801 linhas, porem nosso index esta ate o 8143"
      ]
    },
    {
      "cell_type": "markdown",
      "metadata": {
        "id": "2pl2o36T-7FE",
        "colab_type": "text"
      },
      "source": [
        "Os index precisam ser zerados e voltarem para a ordem padrao \n"
      ]
    },
    {
      "cell_type": "markdown",
      "metadata": {
        "id": "uFB7vcmvkZ3U",
        "colab_type": "text"
      },
      "source": [
        "### Resetando o index"
      ]
    },
    {
      "cell_type": "markdown",
      "metadata": {
        "id": "957ZXRp3kdln",
        "colab_type": "text"
      },
      "source": [
        "dataframe.reset_index(drop=**bool**)"
      ]
    },
    {
      "cell_type": "markdown",
      "metadata": {
        "id": "lYiJdOpSkrTd",
        "colab_type": "text"
      },
      "source": [
        "1. True ou False"
      ]
    },
    {
      "cell_type": "code",
      "metadata": {
        "id": "L3Lm8eZFjWc8",
        "colab_type": "code",
        "colab": {}
      },
      "source": [
        "df_vendas = df_vendas.reset_index(drop=True)"
      ],
      "execution_count": 0,
      "outputs": []
    },
    {
      "cell_type": "code",
      "metadata": {
        "id": "wT1YZ-JU_GgF",
        "colab_type": "code",
        "outputId": "b6218d7e-f277-40a6-97dd-723e1a0e722f",
        "colab": {
          "base_uri": "https://localhost:8080/",
          "height": 419
        }
      },
      "source": [
        "df_vendas"
      ],
      "execution_count": 33,
      "outputs": [
        {
          "output_type": "execute_result",
          "data": {
            "text/html": [
              "<div>\n",
              "<style scoped>\n",
              "    .dataframe tbody tr th:only-of-type {\n",
              "        vertical-align: middle;\n",
              "    }\n",
              "\n",
              "    .dataframe tbody tr th {\n",
              "        vertical-align: top;\n",
              "    }\n",
              "\n",
              "    .dataframe thead th {\n",
              "        text-align: right;\n",
              "    }\n",
              "</style>\n",
              "<table border=\"1\" class=\"dataframe\">\n",
              "  <thead>\n",
              "    <tr style=\"text-align: right;\">\n",
              "      <th></th>\n",
              "      <th>material</th>\n",
              "      <th>qtd_vendas</th>\n",
              "    </tr>\n",
              "  </thead>\n",
              "  <tbody>\n",
              "    <tr>\n",
              "      <th>0</th>\n",
              "      <td>6000110</td>\n",
              "      <td>1</td>\n",
              "    </tr>\n",
              "    <tr>\n",
              "      <th>1</th>\n",
              "      <td>6000129</td>\n",
              "      <td>1</td>\n",
              "    </tr>\n",
              "    <tr>\n",
              "      <th>2</th>\n",
              "      <td>6000163</td>\n",
              "      <td>1</td>\n",
              "    </tr>\n",
              "    <tr>\n",
              "      <th>3</th>\n",
              "      <td>6000172</td>\n",
              "      <td>1</td>\n",
              "    </tr>\n",
              "    <tr>\n",
              "      <th>4</th>\n",
              "      <td>6000892</td>\n",
              "      <td>1</td>\n",
              "    </tr>\n",
              "    <tr>\n",
              "      <th>...</th>\n",
              "      <td>...</td>\n",
              "      <td>...</td>\n",
              "    </tr>\n",
              "    <tr>\n",
              "      <th>16796</th>\n",
              "      <td>6000768</td>\n",
              "      <td>1</td>\n",
              "    </tr>\n",
              "    <tr>\n",
              "      <th>16797</th>\n",
              "      <td>6000839</td>\n",
              "      <td>1</td>\n",
              "    </tr>\n",
              "    <tr>\n",
              "      <th>16798</th>\n",
              "      <td>6000843</td>\n",
              "      <td>1</td>\n",
              "    </tr>\n",
              "    <tr>\n",
              "      <th>16799</th>\n",
              "      <td>6000969</td>\n",
              "      <td>1</td>\n",
              "    </tr>\n",
              "    <tr>\n",
              "      <th>16800</th>\n",
              "      <td>6000400</td>\n",
              "      <td>1</td>\n",
              "    </tr>\n",
              "  </tbody>\n",
              "</table>\n",
              "<p>16801 rows × 2 columns</p>\n",
              "</div>"
            ],
            "text/plain": [
              "       material  qtd_vendas\n",
              "0       6000110           1\n",
              "1       6000129           1\n",
              "2       6000163           1\n",
              "3       6000172           1\n",
              "4       6000892           1\n",
              "...         ...         ...\n",
              "16796   6000768           1\n",
              "16797   6000839           1\n",
              "16798   6000843           1\n",
              "16799   6000969           1\n",
              "16800   6000400           1\n",
              "\n",
              "[16801 rows x 2 columns]"
            ]
          },
          "metadata": {
            "tags": []
          },
          "execution_count": 33
        }
      ]
    },
    {
      "cell_type": "markdown",
      "metadata": {
        "id": "Ff4vGc95l-HQ",
        "colab_type": "text"
      },
      "source": [
        "## Agrupando dados"
      ]
    },
    {
      "cell_type": "markdown",
      "metadata": {
        "id": "ugcQwxhcmCqR",
        "colab_type": "text"
      },
      "source": [
        "dataframe.groupby(**lista**).agg(**dict**).reset_index()"
      ]
    },
    {
      "cell_type": "markdown",
      "metadata": {
        "id": "NJtv5YHhoI2n",
        "colab_type": "text"
      },
      "source": [
        "1. lista = [colunas a serem agrupadas]\n",
        "2. dict = {'coluna_x':'funcao'}"
      ]
    },
    {
      "cell_type": "markdown",
      "metadata": {
        "id": "dq8Lh2EVBtyk",
        "colab_type": "text"
      },
      "source": [
        "Agora para aqueles materiais(linhas) iguais  que estao se repetindo após a concatenação, vamos somar os seus valores e tranformar em unico registro (linha). "
      ]
    },
    {
      "cell_type": "markdown",
      "metadata": {
        "id": "1puIHorvCLZn",
        "colab_type": "text"
      },
      "source": [
        "Vamos usar o **groupby** para agrupar e **sum** para somar"
      ]
    },
    {
      "cell_type": "code",
      "metadata": {
        "id": "LrCyU1I9lQjo",
        "colab_type": "code",
        "colab": {}
      },
      "source": [
        "df_vendas = df_vendas.groupby(['material']).agg({'qtd_vendas':'sum'}).reset_index(drop=False)"
      ],
      "execution_count": 0,
      "outputs": []
    },
    {
      "cell_type": "code",
      "metadata": {
        "id": "-3lU2x6woFZD",
        "colab_type": "code",
        "colab": {}
      },
      "source": [
        "df_pedidos = df_pedidos.groupby(['material']).agg({'qtd_pedido':'sum','qtd_estoque':'sum'}).reset_index(drop=False)"
      ],
      "execution_count": 0,
      "outputs": []
    },
    {
      "cell_type": "code",
      "metadata": {
        "id": "b2LBNCm_ChtL",
        "colab_type": "code",
        "outputId": "51349e2e-ac25-4b6d-9dcd-b310046d2e33",
        "colab": {
          "base_uri": "https://localhost:8080/",
          "height": 204
        }
      },
      "source": [
        "df_vendas.head()"
      ],
      "execution_count": 36,
      "outputs": [
        {
          "output_type": "execute_result",
          "data": {
            "text/html": [
              "<div>\n",
              "<style scoped>\n",
              "    .dataframe tbody tr th:only-of-type {\n",
              "        vertical-align: middle;\n",
              "    }\n",
              "\n",
              "    .dataframe tbody tr th {\n",
              "        vertical-align: top;\n",
              "    }\n",
              "\n",
              "    .dataframe thead th {\n",
              "        text-align: right;\n",
              "    }\n",
              "</style>\n",
              "<table border=\"1\" class=\"dataframe\">\n",
              "  <thead>\n",
              "    <tr style=\"text-align: right;\">\n",
              "      <th></th>\n",
              "      <th>material</th>\n",
              "      <th>qtd_vendas</th>\n",
              "    </tr>\n",
              "  </thead>\n",
              "  <tbody>\n",
              "    <tr>\n",
              "      <th>0</th>\n",
              "      <td>4000013</td>\n",
              "      <td>6</td>\n",
              "    </tr>\n",
              "    <tr>\n",
              "      <th>1</th>\n",
              "      <td>4000014</td>\n",
              "      <td>1</td>\n",
              "    </tr>\n",
              "    <tr>\n",
              "      <th>2</th>\n",
              "      <td>4000015</td>\n",
              "      <td>8</td>\n",
              "    </tr>\n",
              "    <tr>\n",
              "      <th>3</th>\n",
              "      <td>4000016</td>\n",
              "      <td>3</td>\n",
              "    </tr>\n",
              "    <tr>\n",
              "      <th>4</th>\n",
              "      <td>4000017</td>\n",
              "      <td>6</td>\n",
              "    </tr>\n",
              "  </tbody>\n",
              "</table>\n",
              "</div>"
            ],
            "text/plain": [
              "   material  qtd_vendas\n",
              "0   4000013           6\n",
              "1   4000014           1\n",
              "2   4000015           8\n",
              "3   4000016           3\n",
              "4   4000017           6"
            ]
          },
          "metadata": {
            "tags": []
          },
          "execution_count": 36
        }
      ]
    },
    {
      "cell_type": "code",
      "metadata": {
        "id": "jWR2-O0lCihq",
        "colab_type": "code",
        "outputId": "584ded43-5cc7-4462-d785-2b2c1defd6d9",
        "colab": {
          "base_uri": "https://localhost:8080/",
          "height": 204
        }
      },
      "source": [
        "df_pedidos.head()"
      ],
      "execution_count": 37,
      "outputs": [
        {
          "output_type": "execute_result",
          "data": {
            "text/html": [
              "<div>\n",
              "<style scoped>\n",
              "    .dataframe tbody tr th:only-of-type {\n",
              "        vertical-align: middle;\n",
              "    }\n",
              "\n",
              "    .dataframe tbody tr th {\n",
              "        vertical-align: top;\n",
              "    }\n",
              "\n",
              "    .dataframe thead th {\n",
              "        text-align: right;\n",
              "    }\n",
              "</style>\n",
              "<table border=\"1\" class=\"dataframe\">\n",
              "  <thead>\n",
              "    <tr style=\"text-align: right;\">\n",
              "      <th></th>\n",
              "      <th>material</th>\n",
              "      <th>qtd_pedido</th>\n",
              "      <th>qtd_estoque</th>\n",
              "    </tr>\n",
              "  </thead>\n",
              "  <tbody>\n",
              "    <tr>\n",
              "      <th>0</th>\n",
              "      <td>4000010</td>\n",
              "      <td>250</td>\n",
              "      <td>25</td>\n",
              "    </tr>\n",
              "    <tr>\n",
              "      <th>1</th>\n",
              "      <td>4000014</td>\n",
              "      <td>60</td>\n",
              "      <td>6</td>\n",
              "    </tr>\n",
              "    <tr>\n",
              "      <th>2</th>\n",
              "      <td>4000019</td>\n",
              "      <td>7</td>\n",
              "      <td>0</td>\n",
              "    </tr>\n",
              "    <tr>\n",
              "      <th>3</th>\n",
              "      <td>4000020</td>\n",
              "      <td>9</td>\n",
              "      <td>0</td>\n",
              "    </tr>\n",
              "    <tr>\n",
              "      <th>4</th>\n",
              "      <td>4000047</td>\n",
              "      <td>50</td>\n",
              "      <td>5</td>\n",
              "    </tr>\n",
              "  </tbody>\n",
              "</table>\n",
              "</div>"
            ],
            "text/plain": [
              "   material  qtd_pedido  qtd_estoque\n",
              "0   4000010         250           25\n",
              "1   4000014          60            6\n",
              "2   4000019           7            0\n",
              "3   4000020           9            0\n",
              "4   4000047          50            5"
            ]
          },
          "metadata": {
            "tags": []
          },
          "execution_count": 37
        }
      ]
    }
  ]
}